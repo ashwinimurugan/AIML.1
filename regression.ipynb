{
 "cells": [
  {
   "cell_type": "code",
   "execution_count": 1,
   "id": "8b880d19-2146-4793-9cf0-03802700a63c",
   "metadata": {},
   "outputs": [
    {
     "name": "stdout",
     "output_type": "stream",
     "text": [
      "Linear Regression:\n",
      "R² Score: 0.575787706032451\n",
      "Mean Squared Error: 0.5558915986952441\n",
      "Ridge Regression:\n",
      "R² Score: 0.5758549611440126\n",
      "Mean Squared Error: 0.5558034669932211\n",
      "Lasso Regression:\n",
      "R² Score: 0.5318167610318159\n",
      "Mean Squared Error: 0.6135115198058131\n",
      "Polynomial Regression:\n",
      "R² Score: 0.645682000660414\n",
      "Mean Squared Error: 0.46430148748694655\n",
      "Elastic Net Regression:\n",
      "R² Score: 0.5626560643897964\n",
      "Mean Squared Error: 0.5730994198028208\n"
     ]
    }
   ],
   "source": [
    "import numpy as np\n",
    "import pandas as pd\n",
    "from sklearn.datasets import fetch_california_housing\n",
    "from sklearn.model_selection import train_test_split\n",
    "from sklearn.linear_model import LinearRegression, Ridge, Lasso, ElasticNet\n",
    "from sklearn.preprocessing import PolynomialFeatures\n",
    "from sklearn.metrics import mean_squared_error, r2_score\n",
    "\n",
    "# Load California housing data\n",
    "data = fetch_california_housing()\n",
    "X = pd.DataFrame(data.data, columns=data.feature_names)\n",
    "y = pd.Series(data.target)\n",
    "\n",
    "# Split the data\n",
    "X_train, X_test, y_train, y_test = train_test_split(X, y, test_size=0.2, random_state=42)\n",
    "\n",
    "# Linear Regression\n",
    "lr = LinearRegression()\n",
    "lr.fit(X_train, y_train)\n",
    "y_pred_lr = lr.predict(X_test)\n",
    "\n",
    "print('Linear Regression:')\n",
    "print(f'R² Score: {r2_score(y_test, y_pred_lr)}')\n",
    "print(f'Mean Squared Error: {mean_squared_error(y_test, y_pred_lr)}')\n",
    "\n",
    "# Ridge Regression\n",
    "ridge = Ridge(alpha=1.0)\n",
    "ridge.fit(X_train, y_train)\n",
    "y_pred_ridge = ridge.predict(X_test)\n",
    "\n",
    "print('Ridge Regression:')\n",
    "print(f'R² Score: {r2_score(y_test, y_pred_ridge)}')\n",
    "print(f'Mean Squared Error: {mean_squared_error(y_test, y_pred_ridge)}')\n",
    "\n",
    "# Lasso Regression\n",
    "lasso = Lasso(alpha=0.1)\n",
    "lasso.fit(X_train, y_train)\n",
    "y_pred_lasso = lasso.predict(X_test)\n",
    "\n",
    "print('Lasso Regression:')\n",
    "print(f'R² Score: {r2_score(y_test, y_pred_lasso)}')\n",
    "print(f'Mean Squared Error: {mean_squared_error(y_test, y_pred_lasso)}')\n",
    "\n",
    "# Polynomial Regression (degree 2)\n",
    "poly = PolynomialFeatures(degree=2)\n",
    "X_poly_train = poly.fit_transform(X_train)\n",
    "X_poly_test = poly.transform(X_test)\n",
    "\n",
    "poly_lr = LinearRegression()\n",
    "poly_lr.fit(X_poly_train, y_train)\n",
    "y_pred_poly = poly_lr.predict(X_poly_test)\n",
    "\n",
    "print('Polynomial Regression:')\n",
    "print(f'R² Score: {r2_score(y_test, y_pred_poly)}')\n",
    "print(f'Mean Squared Error: {mean_squared_error(y_test, y_pred_poly)}')\n",
    "\n",
    "# Elastic Net Regression\n",
    "elastic_net = ElasticNet(alpha=0.1, l1_ratio=0.5)  # l1_ratio is the mix ratio between Lasso and Ridge\n",
    "elastic_net.fit(X_train, y_train)\n",
    "y_pred_elastic_net = elastic_net.predict(X_test)\n",
    "\n",
    "print('Elastic Net Regression:')\n",
    "print(f'R² Score: {r2_score(y_test, y_pred_elastic_net)}')\n",
    "print(f'Mean Squared Error: {mean_squared_error(y_test, y_pred_elastic_net)}')"
   ]
  },
  {
   "cell_type": "code",
   "execution_count": null,
   "id": "8bcb32be-fcb6-434d-9145-0c37856397b3",
   "metadata": {},
   "outputs": [],
   "source": []
  }
 ],
 "metadata": {
  "kernelspec": {
   "display_name": "Python 3 (ipykernel)",
   "language": "python",
   "name": "python3"
  },
  "language_info": {
   "codemirror_mode": {
    "name": "ipython",
    "version": 3
   },
   "file_extension": ".py",
   "mimetype": "text/x-python",
   "name": "python",
   "nbconvert_exporter": "python",
   "pygments_lexer": "ipython3",
   "version": "3.12.4"
  }
 },
 "nbformat": 4,
 "nbformat_minor": 5
}
