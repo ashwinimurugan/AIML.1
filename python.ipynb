{
 "cells": [
  {
   "cell_type": "code",
   "execution_count": 2,
   "id": "c52990d3-1241-40cd-9b80-832252dd48a2",
   "metadata": {},
   "outputs": [
    {
     "name": "stdout",
     "output_type": "stream",
     "text": [
      "\n",
      "An Array: [54 78 32 46 89 76]\n",
      "\n",
      "Sum: 375\n",
      "Product -1012440064\n",
      "Mean: 62.5\n",
      "Standard Deviation: 19.997916558148418\n",
      "Variance 399.9166666666667\n",
      "Minimum Value: 32\n",
      "Max: 89\n",
      "Min Index: 2\n",
      "Max Index: 4\n",
      "Median: 65.0\n",
      "Product: -1012440064\n"
     ]
    }
   ],
   "source": [
    "import numpy as n\n",
    "a=n.array([54,78,32,46,89,76])\n",
    "print(\"\\nAn Array:\",a)\n",
    "print(\"\\nSum:\",n.sum(a))\n",
    "print(\"Product\",n.prod(a))\n",
    "print(\"Mean:\",n.mean(a))\n",
    "print(\"Standard Deviation:\",n.std(a))\n",
    "print(\"Variance\",n.var(a))\n",
    "print(\"Minimum Value:\",n.min(a))\n",
    "print(\"Max:\",n.max(a))\n",
    "print(\"Min Index:\",n.argmin(a))\n",
    "print(\"Max Index:\",n.argmax(a))\n",
    "print(\"Median:\",n.median(a))\n",
    "print(\"Product:\",n.prod(a))\n"
   ]
  },
  {
   "cell_type": "code",
   "execution_count": null,
   "id": "25bf0cab-d2d5-4c07-8189-286ed188c931",
   "metadata": {},
   "outputs": [],
   "source": []
  }
 ],
 "metadata": {
  "kernelspec": {
   "display_name": "Python 3 (ipykernel)",
   "language": "python",
   "name": "python3"
  },
  "language_info": {
   "codemirror_mode": {
    "name": "ipython",
    "version": 3
   },
   "file_extension": ".py",
   "mimetype": "text/x-python",
   "name": "python",
   "nbconvert_exporter": "python",
   "pygments_lexer": "ipython3",
   "version": "3.12.4"
  }
 },
 "nbformat": 4,
 "nbformat_minor": 5
}
